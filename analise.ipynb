{
 "cells": [
  {
   "cell_type": "markdown",
   "id": "b92f7623-35e7-4b33-b326-b56dafcf2800",
   "metadata": {},
   "source": [
    "# Analise dos dados do dataset \"Brazilian E-Commerce Public Dataset by Olist\"\n",
    "Esta é uma análise exploratória de um dataset de comércio digital brasileiro que é público, o dataset em questão foi feito/compilado por \"Olist\", seja lá quem for, fez um bom trabalho com um dataset completo para uma análise de dados, esta análise é feita por um iniciante na área de análise de dados com o objetivo de enriquecer seu portifólio com projetos de análise de dados reais.\n",
    "\n",
    "Atualmente busco estágio na área da análise de dados, caso esteja interessado em me conhecer:\n",
    "\n",
    "    LinkTree: https://linktr.ee/ValdeciMiranda\n",
    "    Meu Kaggle: https://www.kaggle.com/valdecisantosmiranda\n",
    "    Meu GitHub: https://github.com/ValdeciMiranda\n",
    "\n",
    "Você pode acessar este dataset pelo kaggle: https://www.kaggle.com/datasets/olistbr/brazilian-ecommerce?select=olist_products_dataset.csv\n"
   ]
  },
  {
   "cell_type": "code",
   "execution_count": 3,
   "id": "32b96f98-afd7-4a4f-bfed-c074a51fdfae",
   "metadata": {},
   "outputs": [],
   "source": [
    "#Aqui são importadas todas as bibliotecas usadas neste notebook\n",
    "import pandas as pd"
   ]
  },
  {
   "cell_type": "code",
   "execution_count": 24,
   "id": "deacb305-1a4d-42d3-953d-052bbe3a61b6",
   "metadata": {},
   "outputs": [],
   "source": [
    "#Aqui todos os dados são importados\n",
    "dados_produtos = pd.read_csv(\"olist_products_dataset.csv\")\n",
    "dados_clientes = pd.read_csv(\"olist_customers_dataset.csv\")\n",
    "dados_pedido_item = pd.read_csv(\"olist_order_items_dataset.csv\")\n",
    "dados_vendedores = pd.read_csv(\"olist_sellers_dataset.csv\")\n",
    "dados_pedidos = pd.read_csv(\"olist_orders_dataset.csv\")"
   ]
  },
  {
   "cell_type": "code",
   "execution_count": 55,
   "id": "65710a18-387f-4c2b-9665-344b9732f07f",
   "metadata": {},
   "outputs": [
    {
     "data": {
      "text/html": [
       "<div>\n",
       "<style scoped>\n",
       "    .dataframe tbody tr th:only-of-type {\n",
       "        vertical-align: middle;\n",
       "    }\n",
       "\n",
       "    .dataframe tbody tr th {\n",
       "        vertical-align: top;\n",
       "    }\n",
       "\n",
       "    .dataframe thead th {\n",
       "        text-align: right;\n",
       "    }\n",
       "</style>\n",
       "<table border=\"1\" class=\"dataframe\">\n",
       "  <thead>\n",
       "    <tr style=\"text-align: right;\">\n",
       "      <th></th>\n",
       "      <th>product_id</th>\n",
       "      <th>product_category_name</th>\n",
       "      <th>product_name_lenght</th>\n",
       "      <th>product_description_lenght</th>\n",
       "      <th>product_photos_qty</th>\n",
       "      <th>product_weight_g</th>\n",
       "      <th>product_length_cm</th>\n",
       "      <th>product_height_cm</th>\n",
       "      <th>product_width_cm</th>\n",
       "    </tr>\n",
       "  </thead>\n",
       "  <tbody>\n",
       "    <tr>\n",
       "      <th>0</th>\n",
       "      <td>1e9e8ef04dbcff4541ed26657ea517e5</td>\n",
       "      <td>perfumaria</td>\n",
       "      <td>40.0</td>\n",
       "      <td>287.0</td>\n",
       "      <td>1.0</td>\n",
       "      <td>225.0</td>\n",
       "      <td>16.0</td>\n",
       "      <td>10.0</td>\n",
       "      <td>14.0</td>\n",
       "    </tr>\n",
       "    <tr>\n",
       "      <th>1</th>\n",
       "      <td>3aa071139cb16b67ca9e5dea641aaa2f</td>\n",
       "      <td>artes</td>\n",
       "      <td>44.0</td>\n",
       "      <td>276.0</td>\n",
       "      <td>1.0</td>\n",
       "      <td>1000.0</td>\n",
       "      <td>30.0</td>\n",
       "      <td>18.0</td>\n",
       "      <td>20.0</td>\n",
       "    </tr>\n",
       "    <tr>\n",
       "      <th>2</th>\n",
       "      <td>96bd76ec8810374ed1b65e291975717f</td>\n",
       "      <td>esporte_lazer</td>\n",
       "      <td>46.0</td>\n",
       "      <td>250.0</td>\n",
       "      <td>1.0</td>\n",
       "      <td>154.0</td>\n",
       "      <td>18.0</td>\n",
       "      <td>9.0</td>\n",
       "      <td>15.0</td>\n",
       "    </tr>\n",
       "    <tr>\n",
       "      <th>3</th>\n",
       "      <td>cef67bcfe19066a932b7673e239eb23d</td>\n",
       "      <td>bebes</td>\n",
       "      <td>27.0</td>\n",
       "      <td>261.0</td>\n",
       "      <td>1.0</td>\n",
       "      <td>371.0</td>\n",
       "      <td>26.0</td>\n",
       "      <td>4.0</td>\n",
       "      <td>26.0</td>\n",
       "    </tr>\n",
       "    <tr>\n",
       "      <th>4</th>\n",
       "      <td>9dc1a7de274444849c219cff195d0b71</td>\n",
       "      <td>utilidades_domesticas</td>\n",
       "      <td>37.0</td>\n",
       "      <td>402.0</td>\n",
       "      <td>4.0</td>\n",
       "      <td>625.0</td>\n",
       "      <td>20.0</td>\n",
       "      <td>17.0</td>\n",
       "      <td>13.0</td>\n",
       "    </tr>\n",
       "  </tbody>\n",
       "</table>\n",
       "</div>"
      ],
      "text/plain": [
       "                         product_id  product_category_name  \\\n",
       "0  1e9e8ef04dbcff4541ed26657ea517e5             perfumaria   \n",
       "1  3aa071139cb16b67ca9e5dea641aaa2f                  artes   \n",
       "2  96bd76ec8810374ed1b65e291975717f          esporte_lazer   \n",
       "3  cef67bcfe19066a932b7673e239eb23d                  bebes   \n",
       "4  9dc1a7de274444849c219cff195d0b71  utilidades_domesticas   \n",
       "\n",
       "   product_name_lenght  product_description_lenght  product_photos_qty  \\\n",
       "0                 40.0                       287.0                 1.0   \n",
       "1                 44.0                       276.0                 1.0   \n",
       "2                 46.0                       250.0                 1.0   \n",
       "3                 27.0                       261.0                 1.0   \n",
       "4                 37.0                       402.0                 4.0   \n",
       "\n",
       "   product_weight_g  product_length_cm  product_height_cm  product_width_cm  \n",
       "0             225.0               16.0               10.0              14.0  \n",
       "1            1000.0               30.0               18.0              20.0  \n",
       "2             154.0               18.0                9.0              15.0  \n",
       "3             371.0               26.0                4.0              26.0  \n",
       "4             625.0               20.0               17.0              13.0  "
      ]
     },
     "execution_count": 55,
     "metadata": {},
     "output_type": "execute_result"
    }
   ],
   "source": [
    "#Primeira visualização do cabeçalho dos dados produtos\n",
    "dados_produtos.head()"
   ]
  },
  {
   "cell_type": "markdown",
   "id": "45577072-1dab-428f-8e43-6b9548a50a90",
   "metadata": {},
   "source": [
    "## Dados produtos\n",
    "Neste cabeçalho é informado o nome da categoria dos produtos, suas características como peso e tamanho, perceba que o nome do produto em sí que é vendido não é mostrado, apenas suas características, em geral por que este é um dataset de venda de produtos de vários sites diferentes que tenta não violar a privacidade do cliente mantendo em segredo o que ele comprou, porém só com a categoria podemos fazer um levantamento de qual categoria vende mais e também o quanto cada categoria vende apenas contando quantas vezes deteminada categoria aparece da tabela."
   ]
  },
  {
   "cell_type": "code",
   "execution_count": 33,
   "id": "541a692b-fdb9-4d45-9d47-71f55b83b671",
   "metadata": {},
   "outputs": [],
   "source": [
    "#criando o dataframe \"produtos\"\n",
    "produtos = pd.DataFrame(dados_produtos)"
   ]
  },
  {
   "cell_type": "code",
   "execution_count": 51,
   "id": "fea4e794-4714-4e6e-9507-30f7a0b3e731",
   "metadata": {},
   "outputs": [
    {
     "data": {
      "text/plain": [
       "cama_mesa_banho                                   3029\n",
       "esporte_lazer                                     2867\n",
       "moveis_decoracao                                  2657\n",
       "beleza_saude                                      2444\n",
       "utilidades_domesticas                             2335\n",
       "automotivo                                        1900\n",
       "informatica_acessorios                            1639\n",
       "brinquedos                                        1411\n",
       "relogios_presentes                                1329\n",
       "telefonia                                         1134\n",
       "bebes                                              919\n",
       "perfumaria                                         868\n",
       "papelaria                                          849\n",
       "fashion_bolsas_e_acessorios                        849\n",
       "cool_stuff                                         789\n",
       "ferramentas_jardim                                 753\n",
       "pet_shop                                           719\n",
       "eletronicos                                        517\n",
       "construcao_ferramentas_construcao                  400\n",
       "eletrodomesticos                                   370\n",
       "malas_acessorios                                   349\n",
       "consoles_games                                     317\n",
       "moveis_escritorio                                  309\n",
       "instrumentos_musicais                              289\n",
       "eletroportateis                                    231\n",
       "casa_construcao                                    225\n",
       "livros_interesse_geral                             216\n",
       "fashion_calcados                                   173\n",
       "moveis_sala                                        156\n",
       "climatizacao                                       124\n",
       "livros_tecnicos                                    123\n",
       "telefonia_fixa                                     116\n",
       "casa_conforto                                      111\n",
       "market_place                                       104\n",
       "alimentos_bebidas                                  104\n",
       "fashion_roupa_masculina                             95\n",
       "moveis_cozinha_area_de_servico_jantar_e_jardim      94\n",
       "sinalizacao_e_seguranca                             93\n",
       "construcao_ferramentas_seguranca                    91\n",
       "eletrodomesticos_2                                  90\n",
       "construcao_ferramentas_jardim                       88\n",
       "alimentos                                           82\n",
       "bebidas                                             81\n",
       "construcao_ferramentas_iluminacao                   78\n",
       "agro_industria_e_comercio                           74\n",
       "industria_comercio_e_negocios                       68\n",
       "artigos_de_natal                                    65\n",
       "audio                                               58\n",
       "artes                                               55\n",
       "fashion_underwear_e_moda_praia                      53\n",
       "dvds_blu_ray                                        48\n",
       "moveis_quarto                                       45\n",
       "construcao_ferramentas_ferramentas                  39\n",
       "portateis_casa_forno_e_cafe                         31\n",
       "livros_importados                                   31\n",
       "pcs                                                 30\n",
       "cine_foto                                           28\n",
       "fashion_roupa_feminina                              27\n",
       "musica                                              27\n",
       "artigos_de_festas                                   26\n",
       "fashion_esporte                                     19\n",
       "artes_e_artesanato                                  19\n",
       "flores                                              14\n",
       "fraldas_higiene                                     12\n",
       "la_cuisine                                          10\n",
       "portateis_cozinha_e_preparadores_de_alimentos       10\n",
       "moveis_colchao_e_estofado                           10\n",
       "tablets_impressao_imagem                             9\n",
       "fashion_roupa_infanto_juvenil                        5\n",
       "casa_conforto_2                                      5\n",
       "pc_gamer                                             3\n",
       "seguros_e_servicos                                   2\n",
       "cds_dvds_musicais                                    1\n",
       "Name: product_category_name, dtype: int64"
      ]
     },
     "execution_count": 51,
     "metadata": {},
     "output_type": "execute_result"
    }
   ],
   "source": [
    "#Vendo qual categoria é a mais vendida e a ocorrência de cada uma\n",
    "pd.set_option('display.max_rows', None)\n",
    "num_vendas = produtos['product_category_name'].value_counts()\n",
    "num_vendas"
   ]
  },
  {
   "cell_type": "markdown",
   "id": "88155718-96e0-4538-8c97-fb17b05ef69f",
   "metadata": {},
   "source": [
    "## O ranking das categorias que mais vendem\n",
    "Como podemos ver produtos de \"cama_mesa_banho\" tem mais ocorrências, a quantidade em que estes produtos é vendida não nos é mostrado neste dataset portanto não há como sabermos por exemplo qual é o produo de fato mais vendido mas pelo número de ocorrências podemos ter uma idéia da tendência de consumo destes clientes. Vemos então aqui que produtos de cama, mesa e banho são os mais vendidos em categoria (não sabemos a quantidade em que este produtos são vendidos) enquanto cds e dvds musicais não são tão vendidos tendo apenas uma ocorrência, isso se deve ao fato de que quase ninguém hoje compraria um cd ou dvd podendo baixar de graça pela internet já produtos de cama como lençóis, colchões, edredons, etc, mesa e banho ainda são bem úteis e utilizados no dia a dia do brasileiro, portanto são mais vendidos.\n",
    "\n",
    "## Os clientes, de onde são?\n",
    "Agora que temos a categoria que mais vende podemos da uma olhada de onde são estes clientes"
   ]
  },
  {
   "cell_type": "code",
   "execution_count": 17,
   "id": "b37bbc42-618e-48c3-bb49-0f02d78321bc",
   "metadata": {},
   "outputs": [
    {
     "data": {
      "text/html": [
       "<div>\n",
       "<style scoped>\n",
       "    .dataframe tbody tr th:only-of-type {\n",
       "        vertical-align: middle;\n",
       "    }\n",
       "\n",
       "    .dataframe tbody tr th {\n",
       "        vertical-align: top;\n",
       "    }\n",
       "\n",
       "    .dataframe thead th {\n",
       "        text-align: right;\n",
       "    }\n",
       "</style>\n",
       "<table border=\"1\" class=\"dataframe\">\n",
       "  <thead>\n",
       "    <tr style=\"text-align: right;\">\n",
       "      <th></th>\n",
       "      <th>customer_id</th>\n",
       "      <th>customer_unique_id</th>\n",
       "      <th>customer_zip_code_prefix</th>\n",
       "      <th>customer_city</th>\n",
       "      <th>customer_state</th>\n",
       "    </tr>\n",
       "  </thead>\n",
       "  <tbody>\n",
       "    <tr>\n",
       "      <th>0</th>\n",
       "      <td>06b8999e2fba1a1fbc88172c00ba8bc7</td>\n",
       "      <td>861eff4711a542e4b93843c6dd7febb0</td>\n",
       "      <td>14409</td>\n",
       "      <td>franca</td>\n",
       "      <td>SP</td>\n",
       "    </tr>\n",
       "    <tr>\n",
       "      <th>1</th>\n",
       "      <td>18955e83d337fd6b2def6b18a428ac77</td>\n",
       "      <td>290c77bc529b7ac935b93aa66c333dc3</td>\n",
       "      <td>9790</td>\n",
       "      <td>sao bernardo do campo</td>\n",
       "      <td>SP</td>\n",
       "    </tr>\n",
       "    <tr>\n",
       "      <th>2</th>\n",
       "      <td>4e7b3e00288586ebd08712fdd0374a03</td>\n",
       "      <td>060e732b5b29e8181a18229c7b0b2b5e</td>\n",
       "      <td>1151</td>\n",
       "      <td>sao paulo</td>\n",
       "      <td>SP</td>\n",
       "    </tr>\n",
       "    <tr>\n",
       "      <th>3</th>\n",
       "      <td>b2b6027bc5c5109e529d4dc6358b12c3</td>\n",
       "      <td>259dac757896d24d7702b9acbbff3f3c</td>\n",
       "      <td>8775</td>\n",
       "      <td>mogi das cruzes</td>\n",
       "      <td>SP</td>\n",
       "    </tr>\n",
       "    <tr>\n",
       "      <th>4</th>\n",
       "      <td>4f2d8ab171c80ec8364f7c12e35b23ad</td>\n",
       "      <td>345ecd01c38d18a9036ed96c73b8d066</td>\n",
       "      <td>13056</td>\n",
       "      <td>campinas</td>\n",
       "      <td>SP</td>\n",
       "    </tr>\n",
       "  </tbody>\n",
       "</table>\n",
       "</div>"
      ],
      "text/plain": [
       "                        customer_id                customer_unique_id  \\\n",
       "0  06b8999e2fba1a1fbc88172c00ba8bc7  861eff4711a542e4b93843c6dd7febb0   \n",
       "1  18955e83d337fd6b2def6b18a428ac77  290c77bc529b7ac935b93aa66c333dc3   \n",
       "2  4e7b3e00288586ebd08712fdd0374a03  060e732b5b29e8181a18229c7b0b2b5e   \n",
       "3  b2b6027bc5c5109e529d4dc6358b12c3  259dac757896d24d7702b9acbbff3f3c   \n",
       "4  4f2d8ab171c80ec8364f7c12e35b23ad  345ecd01c38d18a9036ed96c73b8d066   \n",
       "\n",
       "   customer_zip_code_prefix          customer_city customer_state  \n",
       "0                     14409                 franca             SP  \n",
       "1                      9790  sao bernardo do campo             SP  \n",
       "2                      1151              sao paulo             SP  \n",
       "3                      8775        mogi das cruzes             SP  \n",
       "4                     13056               campinas             SP  "
      ]
     },
     "execution_count": 17,
     "metadata": {},
     "output_type": "execute_result"
    }
   ],
   "source": [
    "#Primeira visualização do cabeçalho dos dados clientes\n",
    "dados_clientes.head()"
   ]
  },
  {
   "cell_type": "code",
   "execution_count": 57,
   "id": "f8d9a347-0d62-403b-bf0f-0ddeef72f43d",
   "metadata": {},
   "outputs": [],
   "source": [
    "#Criando um novo dataframe para conter os clientes\n",
    "clientes = pd.DataFrame(dados_clientes)"
   ]
  },
  {
   "cell_type": "code",
   "execution_count": 60,
   "id": "c8b21ae0-0f0d-448b-883d-9cdf09aac882",
   "metadata": {},
   "outputs": [
    {
     "data": {
      "text/plain": [
       "SP    41746\n",
       "RJ    12852\n",
       "MG    11635\n",
       "RS     5466\n",
       "PR     5045\n",
       "SC     3637\n",
       "BA     3380\n",
       "DF     2140\n",
       "ES     2033\n",
       "GO     2020\n",
       "PE     1652\n",
       "CE     1336\n",
       "PA      975\n",
       "MT      907\n",
       "MA      747\n",
       "MS      715\n",
       "PB      536\n",
       "PI      495\n",
       "RN      485\n",
       "AL      413\n",
       "SE      350\n",
       "TO      280\n",
       "RO      253\n",
       "AM      148\n",
       "AC       81\n",
       "AP       68\n",
       "RR       46\n",
       "Name: customer_state, dtype: int64"
      ]
     },
     "execution_count": 60,
     "metadata": {},
     "output_type": "execute_result"
    }
   ],
   "source": [
    "# Vamos ver quantas ocorrências por estado assim como fizemos com o número de vendas por categoria\n",
    "pd.set_option('display.max_rows', None)\n",
    "clientes_estados = clientes['customer_state'].value_counts()\n",
    "clientes_estados"
   ]
  },
  {
   "cell_type": "code",
   "execution_count": 63,
   "id": "098ba22d-884b-4b55-9d20-e52b7548f90d",
   "metadata": {},
   "outputs": [
    {
     "data": {
      "text/plain": [
       "sao paulo            15540\n",
       "rio de janeiro        6882\n",
       "belo horizonte        2773\n",
       "brasilia              2131\n",
       "curitiba              1521\n",
       "                     ...  \n",
       "bequimao                 1\n",
       "andarai                  1\n",
       "vargem grande            1\n",
       "curvelandia              1\n",
       "eugenio de castro        1\n",
       "Name: customer_city, Length: 4119, dtype: int64"
      ]
     },
     "execution_count": 63,
     "metadata": {},
     "output_type": "execute_result"
    }
   ],
   "source": [
    "# Vamos ver quantas ocorrências por cidade assim como fizemos com o número de vendas por categoria\n",
    "pd.set_option('display.max_rows', 25)\n",
    "clientes_cidades = clientes['customer_city'].value_counts()\n",
    "clientes_cidades"
   ]
  },
  {
   "cell_type": "markdown",
   "id": "8328d5d6-e7bc-4acb-bf22-8c9232bcb201",
   "metadata": {},
   "source": [
    "## Ranking da cidade com mais \"customers\" (clientes)\n",
    "Podemos então ter uma ideia de que o maior número de clientes destas lojas de e-comerce ficam em são paulo tanto no estado quanto na cidade visto que parece que este dataset parece que lista número de pedidos por estado e cidade, o top três de cidades que mais compram por e-comerce segundo este data set seria:\n",
    "\n",
    "    1 - São paulo\n",
    "    2 - Rio de janeiro\n",
    "    3 - Belo Horizonte\n",
    "\n",
    "Junto com seus respectivos estados é claro, SP, RJ e MG.\n",
    "\n",
    "## Por último vamos dar uma olhada nos vendedores\n",
    "Só por curiosidade vamos ver quais cidades de e quais estados são a maioria dos vendedores."
   ]
  },
  {
   "cell_type": "code",
   "execution_count": 20,
   "id": "3c3a3bff-0b02-4044-8a89-4acd32042540",
   "metadata": {},
   "outputs": [
    {
     "data": {
      "text/html": [
       "<div>\n",
       "<style scoped>\n",
       "    .dataframe tbody tr th:only-of-type {\n",
       "        vertical-align: middle;\n",
       "    }\n",
       "\n",
       "    .dataframe tbody tr th {\n",
       "        vertical-align: top;\n",
       "    }\n",
       "\n",
       "    .dataframe thead th {\n",
       "        text-align: right;\n",
       "    }\n",
       "</style>\n",
       "<table border=\"1\" class=\"dataframe\">\n",
       "  <thead>\n",
       "    <tr style=\"text-align: right;\">\n",
       "      <th></th>\n",
       "      <th>seller_id</th>\n",
       "      <th>seller_zip_code_prefix</th>\n",
       "      <th>seller_city</th>\n",
       "      <th>seller_state</th>\n",
       "    </tr>\n",
       "  </thead>\n",
       "  <tbody>\n",
       "    <tr>\n",
       "      <th>0</th>\n",
       "      <td>3442f8959a84dea7ee197c632cb2df15</td>\n",
       "      <td>13023</td>\n",
       "      <td>campinas</td>\n",
       "      <td>SP</td>\n",
       "    </tr>\n",
       "    <tr>\n",
       "      <th>1</th>\n",
       "      <td>d1b65fc7debc3361ea86b5f14c68d2e2</td>\n",
       "      <td>13844</td>\n",
       "      <td>mogi guacu</td>\n",
       "      <td>SP</td>\n",
       "    </tr>\n",
       "    <tr>\n",
       "      <th>2</th>\n",
       "      <td>ce3ad9de960102d0677a81f5d0bb7b2d</td>\n",
       "      <td>20031</td>\n",
       "      <td>rio de janeiro</td>\n",
       "      <td>RJ</td>\n",
       "    </tr>\n",
       "    <tr>\n",
       "      <th>3</th>\n",
       "      <td>c0f3eea2e14555b6faeea3dd58c1b1c3</td>\n",
       "      <td>4195</td>\n",
       "      <td>sao paulo</td>\n",
       "      <td>SP</td>\n",
       "    </tr>\n",
       "    <tr>\n",
       "      <th>4</th>\n",
       "      <td>51a04a8a6bdcb23deccc82b0b80742cf</td>\n",
       "      <td>12914</td>\n",
       "      <td>braganca paulista</td>\n",
       "      <td>SP</td>\n",
       "    </tr>\n",
       "  </tbody>\n",
       "</table>\n",
       "</div>"
      ],
      "text/plain": [
       "                          seller_id  seller_zip_code_prefix  \\\n",
       "0  3442f8959a84dea7ee197c632cb2df15                   13023   \n",
       "1  d1b65fc7debc3361ea86b5f14c68d2e2                   13844   \n",
       "2  ce3ad9de960102d0677a81f5d0bb7b2d                   20031   \n",
       "3  c0f3eea2e14555b6faeea3dd58c1b1c3                    4195   \n",
       "4  51a04a8a6bdcb23deccc82b0b80742cf                   12914   \n",
       "\n",
       "         seller_city seller_state  \n",
       "0           campinas           SP  \n",
       "1         mogi guacu           SP  \n",
       "2     rio de janeiro           RJ  \n",
       "3          sao paulo           SP  \n",
       "4  braganca paulista           SP  "
      ]
     },
     "execution_count": 20,
     "metadata": {},
     "output_type": "execute_result"
    }
   ],
   "source": [
    "#Primeira visualização do cabeçalho dos dados vendedores\n",
    "dados_vendedores.head()"
   ]
  },
  {
   "cell_type": "code",
   "execution_count": 64,
   "id": "41d9703f-0375-4720-9ede-efb52a087056",
   "metadata": {},
   "outputs": [],
   "source": [
    "#Criando um novo dataframe para conter os vendedores\n",
    "vendedores = pd.DataFrame(dados_vendedores)"
   ]
  },
  {
   "cell_type": "code",
   "execution_count": 65,
   "id": "13fe7466-815a-4d94-bf09-d654a702daa9",
   "metadata": {},
   "outputs": [
    {
     "data": {
      "text/plain": [
       "SP    1849\n",
       "PR     349\n",
       "MG     244\n",
       "SC     190\n",
       "RJ     171\n",
       "RS     129\n",
       "GO      40\n",
       "DF      30\n",
       "ES      23\n",
       "BA      19\n",
       "CE      13\n",
       "PE       9\n",
       "PB       6\n",
       "RN       5\n",
       "MS       5\n",
       "MT       4\n",
       "RO       2\n",
       "SE       2\n",
       "PI       1\n",
       "AC       1\n",
       "MA       1\n",
       "AM       1\n",
       "PA       1\n",
       "Name: seller_state, dtype: int64"
      ]
     },
     "execution_count": 65,
     "metadata": {},
     "output_type": "execute_result"
    }
   ],
   "source": [
    "# Vamos ver quantas ocorrências por estado assim como fizemos com o número de clientes\n",
    "pd.set_option('display.max_rows', None)\n",
    "vendedores_estados = vendedores['seller_state'].value_counts()\n",
    "vendedores_estados"
   ]
  },
  {
   "cell_type": "code",
   "execution_count": 67,
   "id": "eacfbb36-16a5-4817-abed-34b9b4c1bde6",
   "metadata": {},
   "outputs": [
    {
     "data": {
      "text/plain": [
       "sao paulo              694\n",
       "curitiba               127\n",
       "rio de janeiro          96\n",
       "belo horizonte          68\n",
       "ribeirao preto          52\n",
       "                      ... \n",
       "taruma                   1\n",
       "s jose do rio preto      1\n",
       "domingos martins         1\n",
       "messias targino          1\n",
       "leme                     1\n",
       "Name: seller_city, Length: 611, dtype: int64"
      ]
     },
     "execution_count": 67,
     "metadata": {},
     "output_type": "execute_result"
    }
   ],
   "source": [
    "# Vamos ver quantas ocorrências por cidade assim como fizemos com o número de vendas por categoria\n",
    "pd.set_option('display.max_rows', 10)\n",
    "vendedores_cidades = vendedores['seller_city'].value_counts()\n",
    "vendedores_cidades"
   ]
  },
  {
   "cell_type": "markdown",
   "id": "7778331b-d42d-42c8-b82c-8f1af82147a2",
   "metadata": {},
   "source": [
    "## Uma análise dos vendedores\n",
    "Podemos ver que são paulo é o estado com maior número de vendedores sendo a cidade de são paulo a que tem o maior número seguido por curitiba no Paraná e o estado de minas gerais, podemos dizer que o número de vendedores pelo estado é bastante disperso visto que os números mostram que nem todas as vendas estão concentradas em um único município, isto é bastante interessante de se analisar, visto que num comercio digital existe mais opções de compra as vendas tendem a se dispersar mais em locais diferentes.\n",
    "\n",
    "# Conclusão\n",
    "Poderia ainda incluir aqui uma análise mais completa deste dataset com relação entre o cliente e o vendedor, análise de sentimento das avaliações usando machine learning ou ainda relacionar os produtos com as vendas e suas características para tentar determinar oque o cliente comprou mas isto não me é interessante visto que isso é apenas uma análise exploratória inicial deste dataset que visa apenas \"dar uma bispada\" em seu conteúdo."
   ]
  },
  {
   "cell_type": "code",
   "execution_count": null,
   "id": "3c15d053-5342-4040-b897-b7895dfc6b4a",
   "metadata": {},
   "outputs": [],
   "source": []
  }
 ],
 "metadata": {
  "kernelspec": {
   "display_name": "Python 3 (ipykernel)",
   "language": "python",
   "name": "python3"
  },
  "language_info": {
   "codemirror_mode": {
    "name": "ipython",
    "version": 3
   },
   "file_extension": ".py",
   "mimetype": "text/x-python",
   "name": "python",
   "nbconvert_exporter": "python",
   "pygments_lexer": "ipython3",
   "version": "3.9.13"
  }
 },
 "nbformat": 4,
 "nbformat_minor": 5
}
